{
 "cells": [
  {
   "cell_type": "markdown",
   "id": "93f1dbe4",
   "metadata": {},
   "source": [
    "# Agriculture Production Optimization Engine"
   ]
  },
  {
   "cell_type": "markdown",
   "id": "0d86610b",
   "metadata": {},
   "source": [
    "Project Details :\n",
    "    \n",
    "1. This Project is intended on the precision farming\n",
    "2. we have to optimize productivity.\n",
    "3. By understanding requirement of climate, soil and conditios for crop.\n",
    "\n",
    "\n",
    "Task:\n",
    "\n",
    "Build a predictive model as to suggest the most suitable crops to grow based on the available\n",
    "climate and soil condition.\n"
   ]
  },
  {
   "cell_type": "markdown",
   "id": "0743ba15",
   "metadata": {},
   "source": [
    "Goal:\n",
    "\n",
    "Achieve Precision farming by optimizing the agriculture production."
   ]
  },
  {
   "cell_type": "code",
   "execution_count": 1,
   "id": "f16ef7b1",
   "metadata": {},
   "outputs": [],
   "source": [
    "#importing Required Libraries which we will use in the project."
   ]
  },
  {
   "cell_type": "code",
   "execution_count": 2,
   "id": "013c9050",
   "metadata": {},
   "outputs": [],
   "source": [
    "# for maulplation\n",
    "import numpy as np\n",
    "import pandas as pd\n",
    "\n",
    "#for visulization \n",
    "import seaborn as sns\n",
    "import matplotlib.pyplot as plt\n",
    "\n",
    "#for interactivity\n",
    "from ipywidgets import interact\n",
    " "
   ]
  },
  {
   "cell_type": "code",
   "execution_count": 3,
   "id": "78397226",
   "metadata": {},
   "outputs": [],
   "source": [
    "#read the data set(.csv file)\n",
    "data = pd.read_csv(\"data.csv\")"
   ]
  },
  {
   "cell_type": "code",
   "execution_count": 4,
   "id": "5154b5d2",
   "metadata": {},
   "outputs": [
    {
     "data": {
      "text/html": [
       "<div>\n",
       "<style scoped>\n",
       "    .dataframe tbody tr th:only-of-type {\n",
       "        vertical-align: middle;\n",
       "    }\n",
       "\n",
       "    .dataframe tbody tr th {\n",
       "        vertical-align: top;\n",
       "    }\n",
       "\n",
       "    .dataframe thead th {\n",
       "        text-align: right;\n",
       "    }\n",
       "</style>\n",
       "<table border=\"1\" class=\"dataframe\">\n",
       "  <thead>\n",
       "    <tr style=\"text-align: right;\">\n",
       "      <th></th>\n",
       "      <th>N</th>\n",
       "      <th>P</th>\n",
       "      <th>K</th>\n",
       "      <th>temperature</th>\n",
       "      <th>humidity</th>\n",
       "      <th>ph</th>\n",
       "      <th>rainfall</th>\n",
       "      <th>label</th>\n",
       "    </tr>\n",
       "  </thead>\n",
       "  <tbody>\n",
       "    <tr>\n",
       "      <th>0</th>\n",
       "      <td>90</td>\n",
       "      <td>42</td>\n",
       "      <td>43</td>\n",
       "      <td>20.879744</td>\n",
       "      <td>82.002744</td>\n",
       "      <td>6.502985</td>\n",
       "      <td>202.935536</td>\n",
       "      <td>rice</td>\n",
       "    </tr>\n",
       "    <tr>\n",
       "      <th>1</th>\n",
       "      <td>85</td>\n",
       "      <td>58</td>\n",
       "      <td>41</td>\n",
       "      <td>21.770462</td>\n",
       "      <td>80.319644</td>\n",
       "      <td>7.038096</td>\n",
       "      <td>226.655537</td>\n",
       "      <td>rice</td>\n",
       "    </tr>\n",
       "    <tr>\n",
       "      <th>2</th>\n",
       "      <td>60</td>\n",
       "      <td>55</td>\n",
       "      <td>44</td>\n",
       "      <td>23.004459</td>\n",
       "      <td>82.320763</td>\n",
       "      <td>7.840207</td>\n",
       "      <td>263.964248</td>\n",
       "      <td>rice</td>\n",
       "    </tr>\n",
       "    <tr>\n",
       "      <th>3</th>\n",
       "      <td>74</td>\n",
       "      <td>35</td>\n",
       "      <td>40</td>\n",
       "      <td>26.491096</td>\n",
       "      <td>80.158363</td>\n",
       "      <td>6.980401</td>\n",
       "      <td>242.864034</td>\n",
       "      <td>rice</td>\n",
       "    </tr>\n",
       "    <tr>\n",
       "      <th>4</th>\n",
       "      <td>78</td>\n",
       "      <td>42</td>\n",
       "      <td>42</td>\n",
       "      <td>20.130175</td>\n",
       "      <td>81.604873</td>\n",
       "      <td>7.628473</td>\n",
       "      <td>262.717340</td>\n",
       "      <td>rice</td>\n",
       "    </tr>\n",
       "  </tbody>\n",
       "</table>\n",
       "</div>"
      ],
      "text/plain": [
       "    N   P   K  temperature   humidity        ph    rainfall label\n",
       "0  90  42  43    20.879744  82.002744  6.502985  202.935536  rice\n",
       "1  85  58  41    21.770462  80.319644  7.038096  226.655537  rice\n",
       "2  60  55  44    23.004459  82.320763  7.840207  263.964248  rice\n",
       "3  74  35  40    26.491096  80.158363  6.980401  242.864034  rice\n",
       "4  78  42  42    20.130175  81.604873  7.628473  262.717340  rice"
      ]
     },
     "execution_count": 4,
     "metadata": {},
     "output_type": "execute_result"
    }
   ],
   "source": [
    "#print top 5 values of data set\n",
    "data.head()"
   ]
  },
  {
   "cell_type": "code",
   "execution_count": 5,
   "id": "a147a070",
   "metadata": {},
   "outputs": [
    {
     "data": {
      "text/plain": [
       "(2200, 8)"
      ]
     },
     "execution_count": 5,
     "metadata": {},
     "output_type": "execute_result"
    }
   ],
   "source": [
    "# checking the shape of the data set(number of rows and number of columns)\n",
    "data.shape"
   ]
  },
  {
   "cell_type": "code",
   "execution_count": 6,
   "id": "9095cdaf",
   "metadata": {},
   "outputs": [
    {
     "data": {
      "text/plain": [
       "N              0\n",
       "P              0\n",
       "K              0\n",
       "temperature    0\n",
       "humidity       0\n",
       "ph             0\n",
       "rainfall       0\n",
       "label          0\n",
       "dtype: int64"
      ]
     },
     "execution_count": 6,
     "metadata": {},
     "output_type": "execute_result"
    }
   ],
   "source": [
    "#checking number of null value in the data set.\n",
    "data.isnull().sum()"
   ]
  },
  {
   "cell_type": "code",
   "execution_count": 7,
   "id": "c4c4994c",
   "metadata": {},
   "outputs": [
    {
     "data": {
      "text/plain": [
       "lentil         100\n",
       "grapes         100\n",
       "apple          100\n",
       "maize          100\n",
       "pomegranate    100\n",
       "mango          100\n",
       "mothbeans      100\n",
       "muskmelon      100\n",
       "kidneybeans    100\n",
       "cotton         100\n",
       "orange         100\n",
       "papaya         100\n",
       "coconut        100\n",
       "chickpea       100\n",
       "banana         100\n",
       "watermelon     100\n",
       "blackgram      100\n",
       "jute           100\n",
       "pigeonpeas     100\n",
       "coffee         100\n",
       "rice           100\n",
       "mungbean       100\n",
       "Name: label, dtype: int64"
      ]
     },
     "execution_count": 7,
     "metadata": {},
     "output_type": "execute_result"
    }
   ],
   "source": [
    "#which crops data is present in the data set and also number of record of that particular data.\n",
    "data[\"label\"].value_counts()"
   ]
  },
  {
   "cell_type": "code",
   "execution_count": 8,
   "id": "e0d688c9",
   "metadata": {},
   "outputs": [
    {
     "name": "stdout",
     "output_type": "stream",
     "text": [
      "Average Requirement of minerals for the crop:\n",
      "\n",
      "Nitrogen: 50.551818181818184\n",
      "Phosphorous:  53.36272727272727\n",
      "Postassium:  48.14909090909091\n",
      "Temperature:  25.616243851779544\n",
      "Humidity:  71.48177921778637\n",
      "PH value:  6.469480065256364\n",
      "RainFall:  103.46365541576817\n"
     ]
    }
   ],
   "source": [
    "# to check the amount or on an average of minerals are for required and responsible \n",
    "#for the crops growth.\n",
    "\n",
    "print(\"Average Requirement of minerals for the crop:\\n\")\n",
    "\n",
    "print(\"Nitrogen:\",data['N'].mean())\n",
    "print(\"Phosphorous: \",data['P'].mean())\n",
    "print(\"Postassium: \",data['K'].mean())\n",
    "print(\"Temperature: \",data['temperature'].mean())\n",
    "print(\"Humidity: \", data['humidity'].mean())\n",
    "print(\"PH value: \", data['ph'].mean())\n",
    "print(\"RainFall: \", data['rainfall'].mean())"
   ]
  },
  {
   "cell_type": "code",
   "execution_count": 9,
   "id": "ff91b683",
   "metadata": {},
   "outputs": [],
   "source": [
    "#minumum or maximum and Average requirement of minerals and temperature and humidity etc.\n",
    "#for the crop. \n",
    "\n",
    "#We will use ipywidgets to interect with python code and will make a function to check the \n",
    "#required minerals for the specfic crop."
   ]
  },
  {
   "cell_type": "code",
   "execution_count": 41,
   "id": "5216fa90",
   "metadata": {},
   "outputs": [
    {
     "data": {
      "application/vnd.jupyter.widget-view+json": {
       "model_id": "89230866aa3d4f0cbf5bf11a5d562dcd",
       "version_major": 2,
       "version_minor": 0
      },
      "text/plain": [
       "interactive(children=(Dropdown(description='Crops', options=('lentil', 'grapes', 'apple', 'maize', 'pomegranat…"
      ]
     },
     "metadata": {},
     "output_type": "display_data"
    }
   ],
   "source": [
    "@interact\n",
    "\n",
    "def Requirement(Crops = list(data['label'].value_counts().index)):\n",
    "    x = data[data['label'] == Crops]\n",
    "    print(\"-----Nitrogen-----\")\n",
    "    print(\"Minimum : \",x['N'].min())\n",
    "    print(\"Average : \",x['N'].mean())\n",
    "    print(\"Maximum : \",x['N'].max())\n",
    "    print(\"------------------\")\n",
    "    \n",
    "    print(\"-----Phosphorous-----\")\n",
    "    print(\"Minimum : \",x['P'].min())\n",
    "    print(\"Average : \",x['P'].mean())\n",
    "    print(\"Maximum : \",x['P'].max())\n",
    "    print(\"------------------\")\n",
    "    \n",
    "    print(\"-----Postassium-----\")\n",
    "    print(\"Minimum : \",x['K'].min())\n",
    "    print(\"Average : \",x['K'].mean())\n",
    "    print(\"Maximum : \",x['K'].max())\n",
    "    print(\"------------------\")\n",
    "    \n",
    "    print(\"-----Temperature-----\")\n",
    "    print(\"Minimum : \",x['temperature'].min())\n",
    "    print(\"Average : \",x['temperature'].mean())\n",
    "    print(\"Maximum : \",x['temperature'].max())\n",
    "    print(\"------------------\")\n",
    "    \n",
    "    print(\"-----Humidity-----\")\n",
    "    print(\"Minimum : \",x['humidity'].min())\n",
    "    print(\"Average : \",x['humidity'].mean())\n",
    "    print(\"Maximum : \",x['humidity'].max())\n",
    "    print(\"------------------\")\n",
    "    \n",
    "    print(\"-----Ph Value-----\")\n",
    "    print(\"Minimum : \",x['ph'].min())\n",
    "    print(\"Average : \",x['ph'].mean())\n",
    "    print(\"Maximum : \",x['ph'].max())\n",
    "    print(\"------------------\")\n",
    "    \n",
    "    print(\"-----Rainfall-----\")\n",
    "    print(\"Minimum : \",x['rainfall'].min())\n",
    "    print(\"Average : \",x['rainfall'].mean())\n",
    "    print(\"Maximum : \",x['rainfall'].max())\n",
    "    print(\"------------------\")\n",
    "    \n",
    "    "
   ]
  },
  {
   "cell_type": "code",
   "execution_count": 11,
   "id": "02ca8c5e",
   "metadata": {},
   "outputs": [
    {
     "name": "stdout",
     "output_type": "stream",
     "text": [
      "**High ratio requirments crops as per individual Requirement\n",
      "--------------------------------------------------------------------------\n",
      "Crops which required N more than average:  ['cotton']\n",
      "Crops which required P more than average:  ['grapes' 'apple']\n",
      "Crops which required K more than average:  ['grapes' 'apple']\n",
      "Crops which required rainfall more than average:  ['rice' 'papaya' 'coconut']\n",
      "Crops which required temperature more than average:  ['grapes' 'papaya']\n",
      "Crops which required PH more than average: ['mothbeans']\n",
      "--------------------------------------------------------------------------\n",
      "**Low ratio requirments crops as per individual Requirement\n",
      "--------------------------------------------------------------------------\n",
      "Crops which required temperature less than average:  ['grapes']\n",
      "Crops which required PH less than average: ['mothbeans']\n"
     ]
    }
   ],
   "source": [
    "#Those crop requirement is mostly unusual like any particular requirement \n",
    "#which a crop want more or less.\n",
    "print(\"**High ratio requirments crops as per individual Requirement\")\n",
    "print(\"--------------------------------------------------------------------------\")\n",
    "print(\"Crops which required N more than average: \", data[data['N']>120]['label'].unique())\n",
    "print(\"Crops which required P more than average: \", data[data['P']>100]['label'].unique())\n",
    "print(\"Crops which required K more than average: \", data[data['K']>200]['label'].unique())\n",
    "print(\"Crops which required rainfall more than average: \", data[data['rainfall']>200]['label'].unique())\n",
    "print(\"Crops which required temperature more than average: \", data[data['temperature']>40]['label'].unique())\n",
    "print(\"Crops which required PH more than average:\", data[data['ph']>9]['label'].unique())\n",
    "print(\"--------------------------------------------------------------------------\")\n",
    "print(\"**Low ratio requirments crops as per individual Requirement\")\n",
    "print(\"--------------------------------------------------------------------------\")\n",
    "print(\"Crops which required temperature less than average: \", data[data['temperature']<10]['label'].unique())\n",
    "print(\"Crops which required PH less than average:\", data[data['ph']<4]['label'].unique())\n",
    "\n",
    "\n"
   ]
  },
  {
   "cell_type": "code",
   "execution_count": 12,
   "id": "93217703",
   "metadata": {},
   "outputs": [
    {
     "name": "stdout",
     "output_type": "stream",
     "text": [
      "Summer Crops:\n",
      "['rice' 'maize' 'pigeonpeas' 'mothbeans' 'mungbean' 'blackgram' 'lentil'\n",
      " 'pomegranate' 'banana' 'mango' 'grapes' 'watermelon' 'muskmelon' 'apple'\n",
      " 'orange' 'papaya' 'coconut' 'cotton' 'jute' 'coffee']\n",
      "--------------------------------------------------------------------------\n",
      "Winter Crops:\n",
      "['maize' 'pigeonpeas' 'lentil' 'pomegranate' 'grapes' 'orange']\n",
      "--------------------------------------------------------------------------\n",
      "Rainy Crops:\n",
      "['rice' 'maize' 'pigeonpeas' 'mothbeans' 'mungbean' 'blackgram' 'lentil'\n",
      " 'pomegranate' 'banana' 'mango' 'grapes' 'watermelon' 'muskmelon' 'apple'\n",
      " 'orange' 'papaya' 'coconut' 'cotton' 'jute' 'coffee']\n"
     ]
    }
   ],
   "source": [
    "# TO check the seasonal crops as per the temperature and humidity requirement of the crops:\n",
    "\n",
    "print(\"Summer Crops:\")\n",
    "print(data[(data['temperature']<30) & (data[\"humidity\"] > 50)][\"label\"].unique())\n",
    "print(\"--------------------------------------------------------------------------\")\n",
    "print(\"Winter Crops:\")\n",
    "print(data[(data['temperature']<20) & (data[\"humidity\"] > 30)][\"label\"].unique())\n",
    "print(\"--------------------------------------------------------------------------\")\n",
    "print(\"Rainy Crops:\")\n",
    "print(data[(data['rainfall']<200) & (data[\"humidity\"] > 30)][\"label\"].unique())\n"
   ]
  },
  {
   "cell_type": "code",
   "execution_count": 13,
   "id": "b40477da",
   "metadata": {},
   "outputs": [],
   "source": [
    "#machine Learning Part"
   ]
  },
  {
   "cell_type": "code",
   "execution_count": 14,
   "id": "dca13150",
   "metadata": {},
   "outputs": [
    {
     "data": {
      "text/plain": [
       "(2200, 7)"
      ]
     },
     "execution_count": 14,
     "metadata": {},
     "output_type": "execute_result"
    }
   ],
   "source": [
    "#importing Sklearn and we will use KMeans clustring learning\n",
    "from sklearn.cluster import KMeans\n",
    "\n",
    "#removing the labels columns\n",
    "x = data.drop(['label'],axis=1)\n",
    "\n",
    "#select all the values of data\n",
    "x = x.values\n",
    "\n",
    "#check the shape of the data set\n",
    "x.shape\n"
   ]
  },
  {
   "cell_type": "code",
   "execution_count": 15,
   "id": "cb7ae06a",
   "metadata": {},
   "outputs": [
    {
     "data": {
      "image/png": "[encoded data removed]",
      "text/plain": [
       "<Figure size 720x288 with 1 Axes>"
      ]
     },
     "metadata": {
      "needs_background": "light"
     },
     "output_type": "display_data"
    }
   ],
   "source": [
    "#lets determine the number of cluster in the data set\n",
    "\n",
    "plt.rcParams['figure.figsize'] =(10,4)\n",
    "\n",
    "wcss =[]\n",
    "for i in range(1,11):\n",
    "    km = KMeans(n_clusters = i, init = 'k-means++', max_iter = 300, n_init = 10, random_state =0)\n",
    "    km.fit(x)\n",
    "    wcss.append(km.inertia_)\n",
    "    \n",
    "#lets plot the result in the graph\n",
    "plt.plot(range(1,11),wcss)\n",
    "plt.title(\"The ELBOW METHOD\", fontsize = 20)\n",
    "plt.xlabel(\"No of Clusters: \")\n",
    "plt.ylabel('wcss')\n",
    "plt.show()\n",
    "    "
   ]
  },
  {
   "cell_type": "code",
   "execution_count": 20,
   "id": "cbe7dfd9",
   "metadata": {},
   "outputs": [
    {
     "name": "stdout",
     "output_type": "stream",
     "text": [
      "First cluster =  ['maize' 'chickpea' 'kidneybeans' 'pigeonpeas' 'mothbeans' 'mungbean'\n",
      " 'blackgram' 'lentil' 'pomegranate' 'mango' 'orange' 'papaya' 'coconut']\n",
      "------------------------------------------------------\n",
      "Second cluster =  ['maize' 'banana' 'watermelon' 'muskmelon' 'papaya' 'cotton' 'coffee']\n",
      "------------------------------------------------------\n",
      "Third cluster =  ['grapes' 'apple']\n",
      "------------------------------------------------------\n",
      "forth cluster =  ['rice' 'pigeonpeas' 'papaya' 'coconut' 'jute' 'coffee']\n"
     ]
    }
   ],
   "source": [
    "#kmeans cluster algorithm implementation\n",
    "km = KMeans(n_clusters = 4,init = \"k-means++\", max_iter=300, n_init=10, random_state = 0)\n",
    "y_means = km.fit_predict(x)\n",
    "\n",
    "#finding the result\n",
    "a = data['label']\n",
    "y_means = pd.DataFrame(y_means)\n",
    "z = pd.concat([y_means, a],axis = 1)\n",
    "z = z.rename(columns = {0:'cluster'})\n",
    "\n",
    "#checking cluster of each crop\n",
    "print(\"First cluster = \",z[z['cluster']==0]['label'].unique())\n",
    "\n",
    "print(\"------------------------------------------------------\")\n",
    "print(\"Second cluster = \",z[z['cluster']==1]['label'].unique())\n",
    "\n",
    "print(\"------------------------------------------------------\")\n",
    "print(\"Third cluster = \",z[z['cluster']==2]['label'].unique())\n",
    "\n",
    "print(\"------------------------------------------------------\")\n",
    "print(\"forth cluster = \",z[z['cluster']==3]['label'].unique())"
   ]
  },
  {
   "cell_type": "code",
   "execution_count": 21,
   "id": "0524b21d",
   "metadata": {},
   "outputs": [],
   "source": [
    "# we will use logistic regession for this data set."
   ]
  },
  {
   "cell_type": "code",
   "execution_count": 24,
   "id": "7cd9e2e0",
   "metadata": {},
   "outputs": [
    {
     "name": "stdout",
     "output_type": "stream",
     "text": [
      "(2200, 7)\n",
      "(2200,)\n"
     ]
    }
   ],
   "source": [
    "#lets split teh data for the prdictive modelling\n",
    "\n",
    "y = data['label']\n",
    "x = data.drop(['label'], axis = 1)\n",
    "\n",
    "print(x.shape)\n",
    "print(y.shape)"
   ]
  },
  {
   "cell_type": "code",
   "execution_count": 25,
   "id": "8d3237f2",
   "metadata": {},
   "outputs": [
    {
     "name": "stdout",
     "output_type": "stream",
     "text": [
      "(1760, 7)\n",
      "(440, 7)\n",
      "(1760,)\n",
      "(440, 7)\n"
     ]
    }
   ],
   "source": [
    "#splinting the data for train and test for prediction \n",
    "from sklearn.model_selection import train_test_split\n",
    "\n",
    "x_train , x_test ,y_train ,y_test = train_test_split(x,y, test_size = 0.2, random_state=0)\n",
    "\n",
    "\n",
    "print(x_train.shape)\n",
    "print(x_test.shape)\n",
    "print(y_train.shape)\n",
    "print(x_test.shape)"
   ]
  },
  {
   "cell_type": "code",
   "execution_count": 27,
   "id": "9912bf13",
   "metadata": {},
   "outputs": [
    {
     "name": "stderr",
     "output_type": "stream",
     "text": [
      "/Library/Frameworks/Python.framework/Versions/3.9/lib/python3.9/site-packages/sklearn/linear_model/_logistic.py:763: ConvergenceWarning: lbfgs failed to converge (status=1):\n",
      "STOP: TOTAL NO. of ITERATIONS REACHED LIMIT.\n",
      "\n",
      "Increase the number of iterations (max_iter) or scale the data as shown in:\n",
      "    https://scikit-learn.org/stable/modules/preprocessing.html\n",
      "Please also refer to the documentation for alternative solver options:\n",
      "    https://scikit-learn.org/stable/modules/linear_model.html#logistic-regression\n",
      "  n_iter_i = _check_optimize_result(\n"
     ]
    }
   ],
   "source": [
    "#logistic model\n",
    "\n",
    "from sklearn.linear_model import LogisticRegression\n",
    "\n",
    "model = LogisticRegression()\n",
    "model.fit(x_train, y_train)\n",
    "y_pred = model.predict(x_test)"
   ]
  },
  {
   "cell_type": "code",
   "execution_count": 29,
   "id": "6d16b18a",
   "metadata": {},
   "outputs": [
    {
     "data": {
      "image/png": "[encoded data removed]",
      "text/plain": [
       "<Figure size 720x720 with 2 Axes>"
      ]
     },
     "metadata": {
      "needs_background": "light"
     },
     "output_type": "display_data"
    }
   ],
   "source": [
    "from sklearn.metrics import confusion_matrix\n",
    "#printing the confusion Matrix\n",
    "plt.rcParams['figure.figsize']=(10,10)\n",
    "cm = confusion_matrix(y_test, y_pred)\n",
    "sns.heatmap(cm, annot= True,cmap = 'Wistia')\n",
    "plt.title(\"confusion matrix for logistic regression\", fontsize= 15)\n",
    "plt.show()"
   ]
  },
  {
   "cell_type": "code",
   "execution_count": 33,
   "id": "c5b58c29",
   "metadata": {},
   "outputs": [
    {
     "data": {
      "text/html": [
       "<div>\n",
       "<style scoped>\n",
       "    .dataframe tbody tr th:only-of-type {\n",
       "        vertical-align: middle;\n",
       "    }\n",
       "\n",
       "    .dataframe tbody tr th {\n",
       "        vertical-align: top;\n",
       "    }\n",
       "\n",
       "    .dataframe thead th {\n",
       "        text-align: right;\n",
       "    }\n",
       "</style>\n",
       "<table border=\"1\" class=\"dataframe\">\n",
       "  <thead>\n",
       "    <tr style=\"text-align: right;\">\n",
       "      <th></th>\n",
       "      <th>N</th>\n",
       "      <th>P</th>\n",
       "      <th>K</th>\n",
       "      <th>temperature</th>\n",
       "      <th>humidity</th>\n",
       "      <th>ph</th>\n",
       "      <th>rainfall</th>\n",
       "      <th>label</th>\n",
       "    </tr>\n",
       "  </thead>\n",
       "  <tbody>\n",
       "    <tr>\n",
       "      <th>0</th>\n",
       "      <td>90</td>\n",
       "      <td>42</td>\n",
       "      <td>43</td>\n",
       "      <td>20.879744</td>\n",
       "      <td>82.002744</td>\n",
       "      <td>6.502985</td>\n",
       "      <td>202.935536</td>\n",
       "      <td>rice</td>\n",
       "    </tr>\n",
       "    <tr>\n",
       "      <th>1</th>\n",
       "      <td>85</td>\n",
       "      <td>58</td>\n",
       "      <td>41</td>\n",
       "      <td>21.770462</td>\n",
       "      <td>80.319644</td>\n",
       "      <td>7.038096</td>\n",
       "      <td>226.655537</td>\n",
       "      <td>rice</td>\n",
       "    </tr>\n",
       "    <tr>\n",
       "      <th>2</th>\n",
       "      <td>60</td>\n",
       "      <td>55</td>\n",
       "      <td>44</td>\n",
       "      <td>23.004459</td>\n",
       "      <td>82.320763</td>\n",
       "      <td>7.840207</td>\n",
       "      <td>263.964248</td>\n",
       "      <td>rice</td>\n",
       "    </tr>\n",
       "    <tr>\n",
       "      <th>3</th>\n",
       "      <td>74</td>\n",
       "      <td>35</td>\n",
       "      <td>40</td>\n",
       "      <td>26.491096</td>\n",
       "      <td>80.158363</td>\n",
       "      <td>6.980401</td>\n",
       "      <td>242.864034</td>\n",
       "      <td>rice</td>\n",
       "    </tr>\n",
       "    <tr>\n",
       "      <th>4</th>\n",
       "      <td>78</td>\n",
       "      <td>42</td>\n",
       "      <td>42</td>\n",
       "      <td>20.130175</td>\n",
       "      <td>81.604873</td>\n",
       "      <td>7.628473</td>\n",
       "      <td>262.717340</td>\n",
       "      <td>rice</td>\n",
       "    </tr>\n",
       "  </tbody>\n",
       "</table>\n",
       "</div>"
      ],
      "text/plain": [
       "    N   P   K  temperature   humidity        ph    rainfall label\n",
       "0  90  42  43    20.879744  82.002744  6.502985  202.935536  rice\n",
       "1  85  58  41    21.770462  80.319644  7.038096  226.655537  rice\n",
       "2  60  55  44    23.004459  82.320763  7.840207  263.964248  rice\n",
       "3  74  35  40    26.491096  80.158363  6.980401  242.864034  rice\n",
       "4  78  42  42    20.130175  81.604873  7.628473  262.717340  rice"
      ]
     },
     "execution_count": 33,
     "metadata": {},
     "output_type": "execute_result"
    }
   ],
   "source": [
    "data.head()"
   ]
  },
  {
   "cell_type": "code",
   "execution_count": 34,
   "id": "f458a8f1",
   "metadata": {},
   "outputs": [
    {
     "name": "stdout",
     "output_type": "stream",
     "text": [
      "Prediction ['rice']\n"
     ]
    }
   ],
   "source": [
    "#prediction of a crop\n",
    "prediction = model.predict((np.array([[90,40,40,20,80,7,200]])))\n",
    "print(\"Prediction\", prediction)"
   ]
  },
  {
   "cell_type": "code",
   "execution_count": 40,
   "id": "7d832290",
   "metadata": {},
   "outputs": [
    {
     "data": {
      "text/plain": [
       "0.9681818181818181"
      ]
     },
     "execution_count": 40,
     "metadata": {},
     "output_type": "execute_result"
    }
   ],
   "source": [
    "model.score(x_test, y_test)"
   ]
  },
  {
   "cell_type": "code",
   "execution_count": 37,
   "id": "24e68780",
   "metadata": {},
   "outputs": [],
   "source": [
    "#our model is  96% accurate"
   ]
  },
  {
   "cell_type": "code",
   "execution_count": null,
   "id": "547d5156",
   "metadata": {},
   "outputs": [],
   "source": [
    "#finish "
   ]
  }
 ],
 "metadata": {
  "kernelspec": {
   "display_name": "Python 3",
   "language": "python",
   "name": "python3"
  },
  "language_info": {
   "codemirror_mode": {
    "name": "ipython",
    "version": 3
   },
   "file_extension": ".py",
   "mimetype": "text/x-python",
   "name": "python",
   "nbconvert_exporter": "python",
   "pygments_lexer": "ipython3",
   "version": "3.9.4"
  }
 },
 "nbformat": 4,
 "nbformat_minor": 5
}
